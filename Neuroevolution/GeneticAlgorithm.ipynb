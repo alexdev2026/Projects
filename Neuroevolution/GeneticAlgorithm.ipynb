{
  "nbformat": 4,
  "nbformat_minor": 0,
  "metadata": {
    "colab": {
      "provenance": [],
      "gpuType": "T4"
    },
    "kernelspec": {
      "name": "python3",
      "display_name": "Python 3"
    },
    "language_info": {
      "name": "python"
    },
    "accelerator": "GPU"
  },
  "cells": [
    {
      "cell_type": "markdown",
      "source": [
        "# Genetic Algorithm Model"
      ],
      "metadata": {
        "id": "5M_ai_ub5pgL"
      }
    },
    {
      "cell_type": "markdown",
      "source": [
        "The architecture for the project is as follows:\n",
        "- Agent class\n",
        "  - Defined by a base abstract Agent class.\n",
        "  - You will create individual agents that inherit from this class.\n",
        "  - The model/organism/subject or \"Agent\" that will make up our various populations for the algorithm.\n",
        "  - It has methods to evaluate itself (the fitness function), mutate it's genome for variation, and a static crossover function for combining multiple genomes of a variable number of agents.\n",
        "- Genetic Algorithm Class\n",
        "  - A class that orchestrates the three steps of a genetic algorithm generation 1. Populate, 2. Evaluate, 3. Crossover\n",
        "  - It can take in any Agent that inherits from the Abstract Agent class.\n",
        "  - Only performs one \"generation\".\n",
        "- Main Program\n",
        "  - Utilizes the Genetic Algorithm and defined Agents to run many generations with specific sized populations and uses data to test the trained agents."
      ],
      "metadata": {
        "id": "JvGtFbo9f5eZ"
      }
    },
    {
      "cell_type": "markdown",
      "source": [
        "## Agents"
      ],
      "metadata": {
        "id": "_b1Z71AU5xO1"
      }
    },
    {
      "cell_type": "markdown",
      "source": [
        "Run this cell to import nessecary libraries and dependencies, these are mainly just for typing, nothing important to actual model."
      ],
      "metadata": {
        "id": "gIVQvP78hhyG"
      }
    },
    {
      "cell_type": "code",
      "source": [
        "from abc import ABC, abstractmethod\n",
        "from typing_extensions import Self\n",
        "from typing import Callable, List\n",
        "import copy"
      ],
      "metadata": {
        "id": "LPBqH2n75zHX"
      },
      "execution_count": null,
      "outputs": []
    },
    {
      "cell_type": "markdown",
      "source": [
        "### Agent Abstract Class\n",
        "The base class for an \"agent\" of our genetic algorithm."
      ],
      "metadata": {
        "id": "shLTWwcInlki"
      }
    },
    {
      "cell_type": "code",
      "source": [
        "class Agent(ABC):\n",
        "  @abstractmethod\n",
        "  def __init__(self, mutation_rate: float):\n",
        "    pass\n",
        "\n",
        "  @abstractmethod\n",
        "  def challenge(self, *args, **kwargs) -> float:\n",
        "      pass\n",
        "\n",
        "  @abstractmethod\n",
        "  def mutate(self) -> Self:\n",
        "      pass\n",
        "\n",
        "  @staticmethod\n",
        "  @abstractmethod\n",
        "  def crossover(agents: List) -> Self:\n",
        "    pass"
      ],
      "metadata": {
        "id": "eamM8VSd54qH"
      },
      "execution_count": null,
      "outputs": []
    },
    {
      "cell_type": "markdown",
      "source": [
        "A child class that inherts and implements from the abstract parent Agent class. This agent performs regression on a function in the XY coordinate space"
      ],
      "metadata": {
        "id": "pVT9FRkRn3Mp"
      }
    },
    {
      "cell_type": "code",
      "source": [
        "from ast import Num\n",
        "import torch\n",
        "from torch import nn\n",
        "from random import gauss, random\n",
        "\n",
        "class XYAgent(Agent):\n",
        "\n",
        "  def __init__(self, rate: float):\n",
        "\n",
        "    self.brain = nn.Sequential(\n",
        "        nn.Flatten(),\n",
        "        nn.Linear(2, 20),\n",
        "        nn.ReLU(),\n",
        "        nn.Linear(20, 10),\n",
        "        nn.ReLU(),\n",
        "        nn.Linear(10, 1)\n",
        "\n",
        "    )\n",
        "    self.rate = 0.4\n",
        "\n",
        "  def mutate(self):\n",
        "    genome = self.get_genome()\n",
        "\n",
        "    genome = genome.flatten()\n",
        "    for i in range(0, len(genome)):\n",
        "        r = random()\n",
        "        if r < self.rate:\n",
        "          genome[i] += gauss(0, 0.5)\n",
        "\n",
        "    self.set_genome(genome)\n",
        "\n",
        "    return self\n",
        "\n",
        "\n",
        "  def get_genome(self):\n",
        "\n",
        "    genome = torch.tensor([])\n",
        "\n",
        "    weights = [param for name, param in self.brain.named_parameters() if \"weight\" in name]\n",
        "    for weight in weights:\n",
        "      weight = torch.flatten(weight)\n",
        "      genome = torch.cat((genome, weight))\n",
        "\n",
        "    return genome\n",
        "\n",
        "\n",
        "  def set_genome(self, genome):\n",
        "\n",
        "    genome_index = 0\n",
        "    weights = [param for name, param in self.brain.named_parameters() if \"weight\" in name]\n",
        "\n",
        "    for w in weights:\n",
        "      # Calculate the size of the current weight tensor\n",
        "      num_params = w.numel()\n",
        "\n",
        "      # Extract the corresponding section of the genome\n",
        "      w_flat = genome[genome_index:genome_index + num_params]\n",
        "\n",
        "      # Reshape and assign the weight tensor\n",
        "      w.data = w_flat.reshape(w.shape).to(w.device)\n",
        "\n",
        "      # Update the genome index\n",
        "      genome_index += num_params\n",
        "\n",
        "\n",
        "\n",
        "  def challenge(self, xs, ys):\n",
        "    count_correct = 0\n",
        "\n",
        "    X = torch.tensor(xs).float()\n",
        "    y = torch.tensor(ys).float()\n",
        "    y_pred = self.brain(X)\n",
        "\n",
        "    for i in range(0, len(y_pred)):\n",
        "      if y_pred[i] == y[i]:\n",
        "        count_correct += 1\n",
        "\n",
        "    # Returns total correct classifications of inputs / total number of inputs\n",
        "    return count_correct / len(xs)\n",
        "\n",
        "\n",
        "  def crossover(agents):\n",
        "    # Choose the best agent\n",
        "    return agents[-1]\n"
      ],
      "metadata": {
        "id": "vTD2uNKknWIm"
      },
      "execution_count": null,
      "outputs": []
    },
    {
      "cell_type": "markdown",
      "source": [
        "## The Genetic Algorithm"
      ],
      "metadata": {
        "id": "Xsz50QWupQI1"
      }
    },
    {
      "cell_type": "code",
      "source": [
        "class GeneticAlgorithm:\n",
        "  def __init__(self):\n",
        "    self.agents = []\n",
        "\n",
        "  def populate(self, agent, population_size: int):\n",
        "    self.agents = [copy.deepcopy(agent).mutate() for _ in range(population_size)]\n",
        "\n",
        "  def evaluate(self, best: int, challenge_args: list = None) -> List[Agent]:\n",
        "    if not challenge_args:\n",
        "      scores = [agent.challenge() for agent in self.agents]\n",
        "    else:\n",
        "      scores = [agent.challenge(*challenge_args) for agent in self.agents]\n",
        "\n",
        "    arranged = [x for _, x in sorted(zip(scores, self.agents), key=lambda t: t[0])]\n",
        "    return arranged[-best:]\n",
        "\n",
        "  def crossover(self, agents: List[Agent], cross: Callable[[List[Agent]], Agent]) -> Agent:\n",
        "    crossed = cross(agents)\n",
        "    return crossed"
      ],
      "metadata": {
        "id": "8kSvJ8nLpSE-"
      },
      "execution_count": null,
      "outputs": []
    },
    {
      "cell_type": "markdown",
      "source": [
        "## The Main Program"
      ],
      "metadata": {
        "id": "le0hmdMcpsTC"
      }
    },
    {
      "cell_type": "code",
      "source": [
        "from sklearn.model_selection import train_test_split\n",
        "import numpy as np\n",
        "import matplotlib.pyplot as plt\n",
        "\n",
        "\n",
        "def main():\n",
        "\n",
        "  X = []\n",
        "  y = []\n",
        "  for j in range(200):\n",
        "    for k in range(200):\n",
        "      x_coord = j / 20\n",
        "      y_coord = k / 20\n",
        "      X.append([x_coord, y_coord])\n",
        "\n",
        "      # Classifing coordinates that lie above y = x/2\n",
        "      if y_coord > (0.5) * x_coord:\n",
        "          y.append(1)\n",
        "      else:\n",
        "          y.append(0)\n",
        "\n",
        "\n",
        "  # Separate out data into training and testing data\n",
        "  X_train, X_test, y_train, y_test = train_test_split(X, y, test_size=0.33, random_state=42)\n",
        "\n",
        "\n",
        "  ga = GeneticAlgorithm()\n",
        "  best_agent = XYAgent(0.01)\n",
        "\n",
        "  num_generations = 10\n",
        "  population_size = 10\n",
        "  take_best = 1\n",
        "\n",
        "\n",
        "  for i in range(0, num_generations):\n",
        "    ga.populate(best_agent, population_size)\n",
        "    evaluation = ga.evaluate(take_best, [X_train, y_train])\n",
        "    print(evaluation)\n",
        "    best_agent = ga.crossover(evaluation, XYAgent.crossover)\n",
        "\n",
        "\n",
        "  print(best_agent.challenge(X_test, y_test))\n",
        "\n",
        "  points = np.array([[i / 20, j / 20] for i in range(0, 201, 10) for j in range(0, 201, 10)])\n",
        "\n",
        "  # Use the best agent to make predictions on these points\n",
        "  predictions = [best_agent.brain(torch.tensor(point).float()).item() for point in points]\n",
        "  colors = ['red' if pred >= 0.5 else 'blue' for pred in predictions]\n",
        "\n",
        "    # Plot the points\n",
        "  plt.figure(figsize=(8, 8))\n",
        "  plt.scatter(points[:, 0], points[:, 1], c=colors)\n",
        "  plt.title('Predictions of the Best Agent')\n",
        "  plt.xlabel('X')\n",
        "  plt.ylabel('Y')\n",
        "  plt.show()\n",
        "\n",
        "if __name__ == \"__main__\":\n",
        "    main()"
      ],
      "metadata": {
        "id": "UVz3gaNDptv7",
        "colab": {
          "base_uri": "https://localhost:8080/",
          "height": 1000
        },
        "outputId": "53d83401-23cc-4310-9530-98782eeb1940"
      },
      "execution_count": null,
      "outputs": [
        {
          "output_type": "stream",
          "name": "stdout",
          "text": [
            "[<__main__.XYAgent object at 0x7fedd50076d0>]\n",
            "[<__main__.XYAgent object at 0x7fedd5015b40>]\n",
            "[<__main__.XYAgent object at 0x7fedd5015000>]\n",
            "[<__main__.XYAgent object at 0x7fedd47cd9f0>]\n",
            "[<__main__.XYAgent object at 0x7feddd8cbd90>]\n",
            "[<__main__.XYAgent object at 0x7fee7850efe0>]\n",
            "[<__main__.XYAgent object at 0x7fedd4610a00>]\n",
            "[<__main__.XYAgent object at 0x7fedd4613820>]\n",
            "[<__main__.XYAgent object at 0x7fedd3a5a380>]\n",
            "[<__main__.XYAgent object at 0x7fedd5031810>]\n",
            "0.0\n"
          ]
        },
        {
          "output_type": "error",
          "ename": "IndexError",
          "evalue": "Dimension out of range (expected to be in range of [-1, 0], but got 1)",
          "traceback": [
            "\u001b[0;31m---------------------------------------------------------------------------\u001b[0m",
            "\u001b[0;31mIndexError\u001b[0m                                Traceback (most recent call last)",
            "\u001b[0;32m<ipython-input-88-c961777eb62a>\u001b[0m in \u001b[0;36m<cell line: 102>\u001b[0;34m()\u001b[0m\n\u001b[1;32m    101\u001b[0m \u001b[0;34m\u001b[0m\u001b[0m\n\u001b[1;32m    102\u001b[0m \u001b[0;32mif\u001b[0m \u001b[0m__name__\u001b[0m \u001b[0;34m==\u001b[0m \u001b[0;34m\"__main__\"\u001b[0m\u001b[0;34m:\u001b[0m\u001b[0;34m\u001b[0m\u001b[0;34m\u001b[0m\u001b[0m\n\u001b[0;32m--> 103\u001b[0;31m     \u001b[0mmain\u001b[0m\u001b[0;34m(\u001b[0m\u001b[0;34m)\u001b[0m\u001b[0;34m\u001b[0m\u001b[0;34m\u001b[0m\u001b[0m\n\u001b[0m",
            "\u001b[0;32m<ipython-input-88-c961777eb62a>\u001b[0m in \u001b[0;36mmain\u001b[0;34m()\u001b[0m\n\u001b[1;32m     89\u001b[0m \u001b[0;34m\u001b[0m\u001b[0m\n\u001b[1;32m     90\u001b[0m   \u001b[0;31m# Use the best agent to make predictions on these points\u001b[0m\u001b[0;34m\u001b[0m\u001b[0;34m\u001b[0m\u001b[0m\n\u001b[0;32m---> 91\u001b[0;31m   \u001b[0mpredictions\u001b[0m \u001b[0;34m=\u001b[0m \u001b[0;34m[\u001b[0m\u001b[0mbest_agent\u001b[0m\u001b[0;34m.\u001b[0m\u001b[0mbrain\u001b[0m\u001b[0;34m(\u001b[0m\u001b[0mtorch\u001b[0m\u001b[0;34m.\u001b[0m\u001b[0mtensor\u001b[0m\u001b[0;34m(\u001b[0m\u001b[0mpoint\u001b[0m\u001b[0;34m)\u001b[0m\u001b[0;34m.\u001b[0m\u001b[0mfloat\u001b[0m\u001b[0;34m(\u001b[0m\u001b[0;34m)\u001b[0m\u001b[0;34m)\u001b[0m\u001b[0;34m.\u001b[0m\u001b[0mitem\u001b[0m\u001b[0;34m(\u001b[0m\u001b[0;34m)\u001b[0m \u001b[0;32mfor\u001b[0m \u001b[0mpoint\u001b[0m \u001b[0;32min\u001b[0m \u001b[0mpoints\u001b[0m\u001b[0;34m]\u001b[0m\u001b[0;34m\u001b[0m\u001b[0;34m\u001b[0m\u001b[0m\n\u001b[0m\u001b[1;32m     92\u001b[0m   \u001b[0mcolors\u001b[0m \u001b[0;34m=\u001b[0m \u001b[0;34m[\u001b[0m\u001b[0;34m'red'\u001b[0m \u001b[0;32mif\u001b[0m \u001b[0mpred\u001b[0m \u001b[0;34m>=\u001b[0m \u001b[0;36m0.5\u001b[0m \u001b[0;32melse\u001b[0m \u001b[0;34m'blue'\u001b[0m \u001b[0;32mfor\u001b[0m \u001b[0mpred\u001b[0m \u001b[0;32min\u001b[0m \u001b[0mpredictions\u001b[0m\u001b[0;34m]\u001b[0m\u001b[0;34m\u001b[0m\u001b[0;34m\u001b[0m\u001b[0m\n\u001b[1;32m     93\u001b[0m \u001b[0;34m\u001b[0m\u001b[0m\n",
            "\u001b[0;32m<ipython-input-88-c961777eb62a>\u001b[0m in \u001b[0;36m<listcomp>\u001b[0;34m(.0)\u001b[0m\n\u001b[1;32m     89\u001b[0m \u001b[0;34m\u001b[0m\u001b[0m\n\u001b[1;32m     90\u001b[0m   \u001b[0;31m# Use the best agent to make predictions on these points\u001b[0m\u001b[0;34m\u001b[0m\u001b[0;34m\u001b[0m\u001b[0m\n\u001b[0;32m---> 91\u001b[0;31m   \u001b[0mpredictions\u001b[0m \u001b[0;34m=\u001b[0m \u001b[0;34m[\u001b[0m\u001b[0mbest_agent\u001b[0m\u001b[0;34m.\u001b[0m\u001b[0mbrain\u001b[0m\u001b[0;34m(\u001b[0m\u001b[0mtorch\u001b[0m\u001b[0;34m.\u001b[0m\u001b[0mtensor\u001b[0m\u001b[0;34m(\u001b[0m\u001b[0mpoint\u001b[0m\u001b[0;34m)\u001b[0m\u001b[0;34m.\u001b[0m\u001b[0mfloat\u001b[0m\u001b[0;34m(\u001b[0m\u001b[0;34m)\u001b[0m\u001b[0;34m)\u001b[0m\u001b[0;34m.\u001b[0m\u001b[0mitem\u001b[0m\u001b[0;34m(\u001b[0m\u001b[0;34m)\u001b[0m \u001b[0;32mfor\u001b[0m \u001b[0mpoint\u001b[0m \u001b[0;32min\u001b[0m \u001b[0mpoints\u001b[0m\u001b[0;34m]\u001b[0m\u001b[0;34m\u001b[0m\u001b[0;34m\u001b[0m\u001b[0m\n\u001b[0m\u001b[1;32m     92\u001b[0m   \u001b[0mcolors\u001b[0m \u001b[0;34m=\u001b[0m \u001b[0;34m[\u001b[0m\u001b[0;34m'red'\u001b[0m \u001b[0;32mif\u001b[0m \u001b[0mpred\u001b[0m \u001b[0;34m>=\u001b[0m \u001b[0;36m0.5\u001b[0m \u001b[0;32melse\u001b[0m \u001b[0;34m'blue'\u001b[0m \u001b[0;32mfor\u001b[0m \u001b[0mpred\u001b[0m \u001b[0;32min\u001b[0m \u001b[0mpredictions\u001b[0m\u001b[0;34m]\u001b[0m\u001b[0;34m\u001b[0m\u001b[0;34m\u001b[0m\u001b[0m\n\u001b[1;32m     93\u001b[0m \u001b[0;34m\u001b[0m\u001b[0m\n",
            "\u001b[0;32m/usr/local/lib/python3.10/dist-packages/torch/nn/modules/module.py\u001b[0m in \u001b[0;36m_wrapped_call_impl\u001b[0;34m(self, *args, **kwargs)\u001b[0m\n\u001b[1;32m   1551\u001b[0m             \u001b[0;32mreturn\u001b[0m \u001b[0mself\u001b[0m\u001b[0;34m.\u001b[0m\u001b[0m_compiled_call_impl\u001b[0m\u001b[0;34m(\u001b[0m\u001b[0;34m*\u001b[0m\u001b[0margs\u001b[0m\u001b[0;34m,\u001b[0m \u001b[0;34m**\u001b[0m\u001b[0mkwargs\u001b[0m\u001b[0;34m)\u001b[0m  \u001b[0;31m# type: ignore[misc]\u001b[0m\u001b[0;34m\u001b[0m\u001b[0;34m\u001b[0m\u001b[0m\n\u001b[1;32m   1552\u001b[0m         \u001b[0;32melse\u001b[0m\u001b[0;34m:\u001b[0m\u001b[0;34m\u001b[0m\u001b[0;34m\u001b[0m\u001b[0m\n\u001b[0;32m-> 1553\u001b[0;31m             \u001b[0;32mreturn\u001b[0m \u001b[0mself\u001b[0m\u001b[0;34m.\u001b[0m\u001b[0m_call_impl\u001b[0m\u001b[0;34m(\u001b[0m\u001b[0;34m*\u001b[0m\u001b[0margs\u001b[0m\u001b[0;34m,\u001b[0m \u001b[0;34m**\u001b[0m\u001b[0mkwargs\u001b[0m\u001b[0;34m)\u001b[0m\u001b[0;34m\u001b[0m\u001b[0;34m\u001b[0m\u001b[0m\n\u001b[0m\u001b[1;32m   1554\u001b[0m \u001b[0;34m\u001b[0m\u001b[0m\n\u001b[1;32m   1555\u001b[0m     \u001b[0;32mdef\u001b[0m \u001b[0m_call_impl\u001b[0m\u001b[0;34m(\u001b[0m\u001b[0mself\u001b[0m\u001b[0;34m,\u001b[0m \u001b[0;34m*\u001b[0m\u001b[0margs\u001b[0m\u001b[0;34m,\u001b[0m \u001b[0;34m**\u001b[0m\u001b[0mkwargs\u001b[0m\u001b[0;34m)\u001b[0m\u001b[0;34m:\u001b[0m\u001b[0;34m\u001b[0m\u001b[0;34m\u001b[0m\u001b[0m\n",
            "\u001b[0;32m/usr/local/lib/python3.10/dist-packages/torch/nn/modules/module.py\u001b[0m in \u001b[0;36m_call_impl\u001b[0;34m(self, *args, **kwargs)\u001b[0m\n\u001b[1;32m   1560\u001b[0m                 \u001b[0;32mor\u001b[0m \u001b[0m_global_backward_pre_hooks\u001b[0m \u001b[0;32mor\u001b[0m \u001b[0m_global_backward_hooks\u001b[0m\u001b[0;34m\u001b[0m\u001b[0;34m\u001b[0m\u001b[0m\n\u001b[1;32m   1561\u001b[0m                 or _global_forward_hooks or _global_forward_pre_hooks):\n\u001b[0;32m-> 1562\u001b[0;31m             \u001b[0;32mreturn\u001b[0m \u001b[0mforward_call\u001b[0m\u001b[0;34m(\u001b[0m\u001b[0;34m*\u001b[0m\u001b[0margs\u001b[0m\u001b[0;34m,\u001b[0m \u001b[0;34m**\u001b[0m\u001b[0mkwargs\u001b[0m\u001b[0;34m)\u001b[0m\u001b[0;34m\u001b[0m\u001b[0;34m\u001b[0m\u001b[0m\n\u001b[0m\u001b[1;32m   1563\u001b[0m \u001b[0;34m\u001b[0m\u001b[0m\n\u001b[1;32m   1564\u001b[0m         \u001b[0;32mtry\u001b[0m\u001b[0;34m:\u001b[0m\u001b[0;34m\u001b[0m\u001b[0;34m\u001b[0m\u001b[0m\n",
            "\u001b[0;32m/usr/local/lib/python3.10/dist-packages/torch/nn/modules/container.py\u001b[0m in \u001b[0;36mforward\u001b[0;34m(self, input)\u001b[0m\n\u001b[1;32m    217\u001b[0m     \u001b[0;32mdef\u001b[0m \u001b[0mforward\u001b[0m\u001b[0;34m(\u001b[0m\u001b[0mself\u001b[0m\u001b[0;34m,\u001b[0m \u001b[0minput\u001b[0m\u001b[0;34m)\u001b[0m\u001b[0;34m:\u001b[0m\u001b[0;34m\u001b[0m\u001b[0;34m\u001b[0m\u001b[0m\n\u001b[1;32m    218\u001b[0m         \u001b[0;32mfor\u001b[0m \u001b[0mmodule\u001b[0m \u001b[0;32min\u001b[0m \u001b[0mself\u001b[0m\u001b[0;34m:\u001b[0m\u001b[0;34m\u001b[0m\u001b[0;34m\u001b[0m\u001b[0m\n\u001b[0;32m--> 219\u001b[0;31m             \u001b[0minput\u001b[0m \u001b[0;34m=\u001b[0m \u001b[0mmodule\u001b[0m\u001b[0;34m(\u001b[0m\u001b[0minput\u001b[0m\u001b[0;34m)\u001b[0m\u001b[0;34m\u001b[0m\u001b[0;34m\u001b[0m\u001b[0m\n\u001b[0m\u001b[1;32m    220\u001b[0m         \u001b[0;32mreturn\u001b[0m \u001b[0minput\u001b[0m\u001b[0;34m\u001b[0m\u001b[0;34m\u001b[0m\u001b[0m\n\u001b[1;32m    221\u001b[0m \u001b[0;34m\u001b[0m\u001b[0m\n",
            "\u001b[0;32m/usr/local/lib/python3.10/dist-packages/torch/nn/modules/module.py\u001b[0m in \u001b[0;36m_wrapped_call_impl\u001b[0;34m(self, *args, **kwargs)\u001b[0m\n\u001b[1;32m   1551\u001b[0m             \u001b[0;32mreturn\u001b[0m \u001b[0mself\u001b[0m\u001b[0;34m.\u001b[0m\u001b[0m_compiled_call_impl\u001b[0m\u001b[0;34m(\u001b[0m\u001b[0;34m*\u001b[0m\u001b[0margs\u001b[0m\u001b[0;34m,\u001b[0m \u001b[0;34m**\u001b[0m\u001b[0mkwargs\u001b[0m\u001b[0;34m)\u001b[0m  \u001b[0;31m# type: ignore[misc]\u001b[0m\u001b[0;34m\u001b[0m\u001b[0;34m\u001b[0m\u001b[0m\n\u001b[1;32m   1552\u001b[0m         \u001b[0;32melse\u001b[0m\u001b[0;34m:\u001b[0m\u001b[0;34m\u001b[0m\u001b[0;34m\u001b[0m\u001b[0m\n\u001b[0;32m-> 1553\u001b[0;31m             \u001b[0;32mreturn\u001b[0m \u001b[0mself\u001b[0m\u001b[0;34m.\u001b[0m\u001b[0m_call_impl\u001b[0m\u001b[0;34m(\u001b[0m\u001b[0;34m*\u001b[0m\u001b[0margs\u001b[0m\u001b[0;34m,\u001b[0m \u001b[0;34m**\u001b[0m\u001b[0mkwargs\u001b[0m\u001b[0;34m)\u001b[0m\u001b[0;34m\u001b[0m\u001b[0;34m\u001b[0m\u001b[0m\n\u001b[0m\u001b[1;32m   1554\u001b[0m \u001b[0;34m\u001b[0m\u001b[0m\n\u001b[1;32m   1555\u001b[0m     \u001b[0;32mdef\u001b[0m \u001b[0m_call_impl\u001b[0m\u001b[0;34m(\u001b[0m\u001b[0mself\u001b[0m\u001b[0;34m,\u001b[0m \u001b[0;34m*\u001b[0m\u001b[0margs\u001b[0m\u001b[0;34m,\u001b[0m \u001b[0;34m**\u001b[0m\u001b[0mkwargs\u001b[0m\u001b[0;34m)\u001b[0m\u001b[0;34m:\u001b[0m\u001b[0;34m\u001b[0m\u001b[0;34m\u001b[0m\u001b[0m\n",
            "\u001b[0;32m/usr/local/lib/python3.10/dist-packages/torch/nn/modules/module.py\u001b[0m in \u001b[0;36m_call_impl\u001b[0;34m(self, *args, **kwargs)\u001b[0m\n\u001b[1;32m   1560\u001b[0m                 \u001b[0;32mor\u001b[0m \u001b[0m_global_backward_pre_hooks\u001b[0m \u001b[0;32mor\u001b[0m \u001b[0m_global_backward_hooks\u001b[0m\u001b[0;34m\u001b[0m\u001b[0;34m\u001b[0m\u001b[0m\n\u001b[1;32m   1561\u001b[0m                 or _global_forward_hooks or _global_forward_pre_hooks):\n\u001b[0;32m-> 1562\u001b[0;31m             \u001b[0;32mreturn\u001b[0m \u001b[0mforward_call\u001b[0m\u001b[0;34m(\u001b[0m\u001b[0;34m*\u001b[0m\u001b[0margs\u001b[0m\u001b[0;34m,\u001b[0m \u001b[0;34m**\u001b[0m\u001b[0mkwargs\u001b[0m\u001b[0;34m)\u001b[0m\u001b[0;34m\u001b[0m\u001b[0;34m\u001b[0m\u001b[0m\n\u001b[0m\u001b[1;32m   1563\u001b[0m \u001b[0;34m\u001b[0m\u001b[0m\n\u001b[1;32m   1564\u001b[0m         \u001b[0;32mtry\u001b[0m\u001b[0;34m:\u001b[0m\u001b[0;34m\u001b[0m\u001b[0;34m\u001b[0m\u001b[0m\n",
            "\u001b[0;32m/usr/local/lib/python3.10/dist-packages/torch/nn/modules/flatten.py\u001b[0m in \u001b[0;36mforward\u001b[0;34m(self, input)\u001b[0m\n\u001b[1;32m     48\u001b[0m \u001b[0;34m\u001b[0m\u001b[0m\n\u001b[1;32m     49\u001b[0m     \u001b[0;32mdef\u001b[0m \u001b[0mforward\u001b[0m\u001b[0;34m(\u001b[0m\u001b[0mself\u001b[0m\u001b[0;34m,\u001b[0m \u001b[0minput\u001b[0m\u001b[0;34m:\u001b[0m \u001b[0mTensor\u001b[0m\u001b[0;34m)\u001b[0m \u001b[0;34m->\u001b[0m \u001b[0mTensor\u001b[0m\u001b[0;34m:\u001b[0m\u001b[0;34m\u001b[0m\u001b[0;34m\u001b[0m\u001b[0m\n\u001b[0;32m---> 50\u001b[0;31m         \u001b[0;32mreturn\u001b[0m \u001b[0minput\u001b[0m\u001b[0;34m.\u001b[0m\u001b[0mflatten\u001b[0m\u001b[0;34m(\u001b[0m\u001b[0mself\u001b[0m\u001b[0;34m.\u001b[0m\u001b[0mstart_dim\u001b[0m\u001b[0;34m,\u001b[0m \u001b[0mself\u001b[0m\u001b[0;34m.\u001b[0m\u001b[0mend_dim\u001b[0m\u001b[0;34m)\u001b[0m\u001b[0;34m\u001b[0m\u001b[0;34m\u001b[0m\u001b[0m\n\u001b[0m\u001b[1;32m     51\u001b[0m \u001b[0;34m\u001b[0m\u001b[0m\n\u001b[1;32m     52\u001b[0m     \u001b[0;32mdef\u001b[0m \u001b[0mextra_repr\u001b[0m\u001b[0;34m(\u001b[0m\u001b[0mself\u001b[0m\u001b[0;34m)\u001b[0m \u001b[0;34m->\u001b[0m \u001b[0mstr\u001b[0m\u001b[0;34m:\u001b[0m\u001b[0;34m\u001b[0m\u001b[0;34m\u001b[0m\u001b[0m\n",
            "\u001b[0;31mIndexError\u001b[0m: Dimension out of range (expected to be in range of [-1, 0], but got 1)"
          ]
        }
      ]
    },
    {
      "cell_type": "code",
      "source": [],
      "metadata": {
        "id": "PfceP8fmqavA"
      },
      "execution_count": null,
      "outputs": []
    }
  ]
}